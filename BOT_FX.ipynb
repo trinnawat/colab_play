{
  "nbformat": 4,
  "nbformat_minor": 0,
  "metadata": {
    "colab": {
      "name": "BOT_FX.ipynb",
      "provenance": [],
      "collapsed_sections": [],
      "authorship_tag": "ABX9TyMHNEl9Diq8eVRWA1YSKyvc",
      "include_colab_link": true
    },
    "kernelspec": {
      "name": "python3",
      "display_name": "Python 3"
    }
  },
  "cells": [
    {
      "cell_type": "markdown",
      "metadata": {
        "id": "view-in-github",
        "colab_type": "text"
      },
      "source": [
        "<a href=\"https://colab.research.google.com/github/trinnawat/colab_play/blob/master/BOT_FX.ipynb\" target=\"_parent\"><img src=\"https://colab.research.google.com/assets/colab-badge.svg\" alt=\"Open In Colab\"/></a>"
      ]
    },
    {
      "cell_type": "code",
      "metadata": {
        "id": "zPV39HVsCzHO",
        "colab_type": "code",
        "colab": {
          "base_uri": "https://localhost:8080/",
          "height": 187
        },
        "outputId": "4e4d54c7-d927-4a33-fa7a-4191c3087277"
      },
      "source": [
        "!pip install dateparser"
      ],
      "execution_count": 121,
      "outputs": [
        {
          "output_type": "stream",
          "text": [
            "Collecting dateparser\n",
            "\u001b[?25l  Downloading https://files.pythonhosted.org/packages/ad/0c/aba72d8454c28ab3800f3efd1ab3fe4f3fa41eb2746adc0cdcb318200796/dateparser-0.7.4-py2.py3-none-any.whl (353kB)\n",
            "\r\u001b[K     |█                               | 10kB 15.7MB/s eta 0:00:01\r\u001b[K     |█▉                              | 20kB 2.2MB/s eta 0:00:01\r\u001b[K     |██▉                             | 30kB 2.7MB/s eta 0:00:01\r\u001b[K     |███▊                            | 40kB 3.1MB/s eta 0:00:01\r\u001b[K     |████▋                           | 51kB 2.5MB/s eta 0:00:01\r\u001b[K     |█████▋                          | 61kB 2.8MB/s eta 0:00:01\r\u001b[K     |██████▌                         | 71kB 3.1MB/s eta 0:00:01\r\u001b[K     |███████▍                        | 81kB 3.4MB/s eta 0:00:01\r\u001b[K     |████████▍                       | 92kB 3.7MB/s eta 0:00:01\r\u001b[K     |█████████▎                      | 102kB 3.5MB/s eta 0:00:01\r\u001b[K     |██████████▏                     | 112kB 3.5MB/s eta 0:00:01\r\u001b[K     |███████████▏                    | 122kB 3.5MB/s eta 0:00:01\r\u001b[K     |████████████                    | 133kB 3.5MB/s eta 0:00:01\r\u001b[K     |█████████████                   | 143kB 3.5MB/s eta 0:00:01\r\u001b[K     |██████████████                  | 153kB 3.5MB/s eta 0:00:01\r\u001b[K     |██████████████▉                 | 163kB 3.5MB/s eta 0:00:01\r\u001b[K     |███████████████▊                | 174kB 3.5MB/s eta 0:00:01\r\u001b[K     |████████████████▊               | 184kB 3.5MB/s eta 0:00:01\r\u001b[K     |█████████████████▋              | 194kB 3.5MB/s eta 0:00:01\r\u001b[K     |██████████████████▌             | 204kB 3.5MB/s eta 0:00:01\r\u001b[K     |███████████████████▌            | 215kB 3.5MB/s eta 0:00:01\r\u001b[K     |████████████████████▍           | 225kB 3.5MB/s eta 0:00:01\r\u001b[K     |█████████████████████▍          | 235kB 3.5MB/s eta 0:00:01\r\u001b[K     |██████████████████████▎         | 245kB 3.5MB/s eta 0:00:01\r\u001b[K     |███████████████████████▏        | 256kB 3.5MB/s eta 0:00:01\r\u001b[K     |████████████████████████▏       | 266kB 3.5MB/s eta 0:00:01\r\u001b[K     |█████████████████████████       | 276kB 3.5MB/s eta 0:00:01\r\u001b[K     |██████████████████████████      | 286kB 3.5MB/s eta 0:00:01\r\u001b[K     |███████████████████████████     | 296kB 3.5MB/s eta 0:00:01\r\u001b[K     |███████████████████████████▉    | 307kB 3.5MB/s eta 0:00:01\r\u001b[K     |████████████████████████████▊   | 317kB 3.5MB/s eta 0:00:01\r\u001b[K     |█████████████████████████████▊  | 327kB 3.5MB/s eta 0:00:01\r\u001b[K     |██████████████████████████████▋ | 337kB 3.5MB/s eta 0:00:01\r\u001b[K     |███████████████████████████████▌| 348kB 3.5MB/s eta 0:00:01\r\u001b[K     |████████████████████████████████| 358kB 3.5MB/s \n",
            "\u001b[?25hRequirement already satisfied: python-dateutil in /usr/local/lib/python3.6/dist-packages (from dateparser) (2.8.1)\n",
            "Requirement already satisfied: regex!=2019.02.19 in /usr/local/lib/python3.6/dist-packages (from dateparser) (2019.12.20)\n",
            "Requirement already satisfied: pytz in /usr/local/lib/python3.6/dist-packages (from dateparser) (2018.9)\n",
            "Requirement already satisfied: tzlocal in /usr/local/lib/python3.6/dist-packages (from dateparser) (1.5.1)\n",
            "Requirement already satisfied: six>=1.5 in /usr/local/lib/python3.6/dist-packages (from python-dateutil->dateparser) (1.12.0)\n",
            "Installing collected packages: dateparser\n",
            "Successfully installed dateparser-0.7.4\n"
          ],
          "name": "stdout"
        }
      ]
    },
    {
      "cell_type": "code",
      "metadata": {
        "id": "9CKodqt8O9hl",
        "colab_type": "code",
        "colab": {}
      },
      "source": [
        "import pandas as pd\n",
        "from dateparser.search import search_dates\n",
        "import re"
      ],
      "execution_count": 0,
      "outputs": []
    },
    {
      "cell_type": "code",
      "metadata": {
        "id": "DxYUWCItC6IS",
        "colab_type": "code",
        "colab": {}
      },
      "source": [
        "df_list = pd.read_html(\"https://www.bot.or.th/English/Statistics/FinancialMarkets/ExchangeRate/_layouts/Application/ExchangeRate/ExchangeRate.aspx\")"
      ],
      "execution_count": 0,
      "outputs": []
    },
    {
      "cell_type": "markdown",
      "metadata": {
        "id": "jOykipUHMxio",
        "colab_type": "text"
      },
      "source": [
        "# **Foreign Exchange Rates as of**"
      ]
    },
    {
      "cell_type": "code",
      "metadata": {
        "id": "mDaRgfeJNQAw",
        "colab_type": "code",
        "colab": {
          "base_uri": "https://localhost:8080/",
          "height": 34
        },
        "outputId": "55c47950-6f10-4a32-ecb6-9a7b34ccfeb1"
      },
      "source": [
        "search_dates(df_list[1].iloc[4][0])[0][1].strftime(\"%d %b %Y\")"
      ],
      "execution_count": 138,
      "outputs": [
        {
          "output_type": "execute_result",
          "data": {
            "text/plain": [
              "'20 May 2020'"
            ]
          },
          "metadata": {
            "tags": []
          },
          "execution_count": 138
        }
      ]
    },
    {
      "cell_type": "code",
      "metadata": {
        "id": "MeuMwc6CRGad",
        "colab_type": "code",
        "colab": {
          "base_uri": "https://localhost:8080/",
          "height": 34
        },
        "outputId": "526ef3d4-741d-4e3b-ca86-d153ea9bff3d"
      },
      "source": [
        "df_list[1].iloc[4][0]"
      ],
      "execution_count": 151,
      "outputs": [
        {
          "output_type": "execute_result",
          "data": {
            "text/plain": [
              "'Foreign Exchange Rates as of 20 May 2020  Weighted-average Interbank Exchange Rate = 31.878 Baht/US Dollar'"
            ]
          },
          "metadata": {
            "tags": []
          },
          "execution_count": 151
        }
      ]
    },
    {
      "cell_type": "markdown",
      "metadata": {
        "id": "EpNBfy89MAEy",
        "colab_type": "text"
      },
      "source": [
        "# **Average Counter Rates Quoted by Commercial Banks**"
      ]
    },
    {
      "cell_type": "code",
      "metadata": {
        "id": "Xw01I_nwC8zQ",
        "colab_type": "code",
        "colab": {
          "base_uri": "https://localhost:8080/",
          "height": 204
        },
        "outputId": "524ccbaa-9e57-429e-e9e6-4d884a18f994"
      },
      "source": [
        "tb_1 = df_list[2]\n",
        "tb_1 = tb_1[tb_1.columns[1:6]]\n",
        "tb_1.columns = ['Country', 'Currency', 'Average Buying Rates - Sight Bill', 'Average Buying Rates - Transfer', 'Average Selling Rates']\n",
        "tb_1 = tb_1.iloc[3:]\n",
        "tb_1.reset_index(drop=True, inplace=True)\n",
        "tb_1.head()"
      ],
      "execution_count": 98,
      "outputs": [
        {
          "output_type": "execute_result",
          "data": {
            "text/html": [
              "<div>\n",
              "<style scoped>\n",
              "    .dataframe tbody tr th:only-of-type {\n",
              "        vertical-align: middle;\n",
              "    }\n",
              "\n",
              "    .dataframe tbody tr th {\n",
              "        vertical-align: top;\n",
              "    }\n",
              "\n",
              "    .dataframe thead th {\n",
              "        text-align: right;\n",
              "    }\n",
              "</style>\n",
              "<table border=\"1\" class=\"dataframe\">\n",
              "  <thead>\n",
              "    <tr style=\"text-align: right;\">\n",
              "      <th></th>\n",
              "      <th>Country</th>\n",
              "      <th>Currency</th>\n",
              "      <th>Average Buying Rates - Sight Bill</th>\n",
              "      <th>Average Buying Rates - Transfer</th>\n",
              "      <th>Average Selling Rates</th>\n",
              "    </tr>\n",
              "  </thead>\n",
              "  <tbody>\n",
              "    <tr>\n",
              "      <th>0</th>\n",
              "      <td>UNITED STATES</td>\n",
              "      <td>USD</td>\n",
              "      <td>31.6192</td>\n",
              "      <td>31.7117</td>\n",
              "      <td>32.0531</td>\n",
              "    </tr>\n",
              "    <tr>\n",
              "      <th>1</th>\n",
              "      <td>UNITED KINGDOM</td>\n",
              "      <td>GBP</td>\n",
              "      <td>38.4920</td>\n",
              "      <td>38.6507</td>\n",
              "      <td>39.5500</td>\n",
              "    </tr>\n",
              "    <tr>\n",
              "      <th>2</th>\n",
              "      <td>EURO ZONE</td>\n",
              "      <td>EUR</td>\n",
              "      <td>34.3936</td>\n",
              "      <td>34.5054</td>\n",
              "      <td>35.2462</td>\n",
              "    </tr>\n",
              "    <tr>\n",
              "      <th>3</th>\n",
              "      <td>JAPAN (100 Yen)</td>\n",
              "      <td>JPY</td>\n",
              "      <td>29.0865</td>\n",
              "      <td>29.1868</td>\n",
              "      <td>29.9694</td>\n",
              "    </tr>\n",
              "    <tr>\n",
              "      <th>4</th>\n",
              "      <td>HONG KONG</td>\n",
              "      <td>HKD</td>\n",
              "      <td>4.0536</td>\n",
              "      <td>4.0723</td>\n",
              "      <td>4.1579</td>\n",
              "    </tr>\n",
              "  </tbody>\n",
              "</table>\n",
              "</div>"
            ],
            "text/plain": [
              "           Country  ... Average Selling Rates\n",
              "0    UNITED STATES  ...               32.0531\n",
              "1   UNITED KINGDOM  ...               39.5500\n",
              "2        EURO ZONE  ...               35.2462\n",
              "3  JAPAN (100 Yen)  ...               29.9694\n",
              "4        HONG KONG  ...                4.1579\n",
              "\n",
              "[5 rows x 5 columns]"
            ]
          },
          "metadata": {
            "tags": []
          },
          "execution_count": 98
        }
      ]
    },
    {
      "cell_type": "markdown",
      "metadata": {
        "id": "PN_jc-SEMOWG",
        "colab_type": "text"
      },
      "source": [
        "## **Foreign Exchange Rates (THOMSON REUTERS) with Bangkok Market Crossing**"
      ]
    },
    {
      "cell_type": "code",
      "metadata": {
        "id": "Kwl_Ov-1MQho",
        "colab_type": "code",
        "colab": {
          "base_uri": "https://localhost:8080/",
          "height": 204
        },
        "outputId": "46e367dc-d2b1-4d7e-f95d-d2ebd2b3e773"
      },
      "source": [
        "tb_2 = df_list[3]\n",
        "tb_2 = tb_2[tb_2.columns[1:5]]\n",
        "tb_2.columns = ['Country',\t'Currency',\t'Buying Rates',\t'Selling Rates']\n",
        "tb_2 = tb_2.iloc[2:]\n",
        "tb_2.reset_index(drop=True, inplace=True)\n",
        "tb_2.head()"
      ],
      "execution_count": 101,
      "outputs": [
        {
          "output_type": "execute_result",
          "data": {
            "text/html": [
              "<div>\n",
              "<style scoped>\n",
              "    .dataframe tbody tr th:only-of-type {\n",
              "        vertical-align: middle;\n",
              "    }\n",
              "\n",
              "    .dataframe tbody tr th {\n",
              "        vertical-align: top;\n",
              "    }\n",
              "\n",
              "    .dataframe thead th {\n",
              "        text-align: right;\n",
              "    }\n",
              "</style>\n",
              "<table border=\"1\" class=\"dataframe\">\n",
              "  <thead>\n",
              "    <tr style=\"text-align: right;\">\n",
              "      <th></th>\n",
              "      <th>Country</th>\n",
              "      <th>Currency</th>\n",
              "      <th>Buying Rates</th>\n",
              "      <th>Selling Rates</th>\n",
              "    </tr>\n",
              "  </thead>\n",
              "  <tbody>\n",
              "    <tr>\n",
              "      <th>0</th>\n",
              "      <td>MEXICO</td>\n",
              "      <td>MXN</td>\n",
              "      <td>1.3391</td>\n",
              "      <td>1.3535</td>\n",
              "    </tr>\n",
              "    <tr>\n",
              "      <th>1</th>\n",
              "      <td>SOUTH AFRICA</td>\n",
              "      <td>ZAR</td>\n",
              "      <td>1.7297</td>\n",
              "      <td>1.7484</td>\n",
              "    </tr>\n",
              "    <tr>\n",
              "      <th>2</th>\n",
              "      <td>KOREA, REPUBLIC OF</td>\n",
              "      <td>KRW</td>\n",
              "      <td>0.0259</td>\n",
              "      <td>0.0262</td>\n",
              "    </tr>\n",
              "    <tr>\n",
              "      <th>3</th>\n",
              "      <td>TAIWAN</td>\n",
              "      <td>TWD</td>\n",
              "      <td>1.0590</td>\n",
              "      <td>1.0704</td>\n",
              "    </tr>\n",
              "    <tr>\n",
              "      <th>4</th>\n",
              "      <td>KUWAIT</td>\n",
              "      <td>KWD</td>\n",
              "      <td>102.6933</td>\n",
              "      <td>103.7989</td>\n",
              "    </tr>\n",
              "  </tbody>\n",
              "</table>\n",
              "</div>"
            ],
            "text/plain": [
              "              Country Currency Buying Rates Selling Rates\n",
              "0              MEXICO      MXN       1.3391        1.3535\n",
              "1        SOUTH AFRICA      ZAR       1.7297        1.7484\n",
              "2  KOREA, REPUBLIC OF      KRW       0.0259        0.0262\n",
              "3              TAIWAN      TWD       1.0590        1.0704\n",
              "4              KUWAIT      KWD     102.6933      103.7989"
            ]
          },
          "metadata": {
            "tags": []
          },
          "execution_count": 101
        }
      ]
    },
    {
      "cell_type": "code",
      "metadata": {
        "id": "lJCoLMYgMUek",
        "colab_type": "code",
        "colab": {}
      },
      "source": [
        ""
      ],
      "execution_count": 0,
      "outputs": []
    }
  ]
}